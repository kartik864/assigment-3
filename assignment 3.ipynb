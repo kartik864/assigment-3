{
 "cells": [
  {
   "cell_type": "code",
   "execution_count": 3,
   "id": "44e34271-d94e-4c4e-b9a4-f919ae63f1e9",
   "metadata": {},
   "outputs": [],
   "source": [
    "#Q1\n",
    " #python key words are inbuilt functions. it is limited to single functiom and it cannot be set as variable name or function name.\n",
    "   # examples are:\n",
    "   #     1 print\n",
    "    #    2 if elif\n",
    "    #    3  if\n",
    "     #   4 type\n",
    "     #   5  else"
   ]
  },
  {
   "cell_type": "code",
   "execution_count": 8,
   "id": "84ce7917-c837-4f9c-805e-e3748c753401",
   "metadata": {},
   "outputs": [],
   "source": [
    "#Q2\n",
    "#Valid Characters: Identifiers can contain letters (both uppercase and lowercase), digits, and underscores.\n",
    "#Cannot Start with a Digit: Identifiers cannot start with a digit.\n",
    "#Case Sensitivity: Python is case-sensitive, so uppercase and lowercase letters are considered distinct. For example, myVariable and MyVariable would be considered different identifiers.\n",
    "#Reserved Words: Identifiers cannot be a reserved word or keyword in Python. These are words that have special meaning and are part of the language's syntax, such as if, else, for, while, etc.\n",
    "#Convention: It's a convention to use descriptive names for identifiers to make code more readable. For example, instead of x, you might use total_score to represent the total score in a game.\n",
    "\n",
    "\n",
    "#examples\n",
    "_my_no_=78 #my_no. is identifer\n"
   ]
  },
  {
   "cell_type": "code",
   "execution_count": null,
   "id": "1e6e535c-c32f-4ce5-8410-893797343a28",
   "metadata": {},
   "outputs": [],
   "source": [
    "#Q3\n",
    "#Comments in Python are annotations within the code that are ignored by the interpreter when the program is executed. They are used to add explanations, notes, or reminders for developers, making the code more understandable to others and to the future self.\n",
    "#examples\n",
    "# Calculate the sum of two numbers\n",
    "num1 = 10  # Assigning 10 to num1\n",
    "num2 = 20  # Assigning 20 to num2\n",
    "sum = num1 + num2  # Adding num1 and num2"
   ]
  },
  {
   "cell_type": "code",
   "execution_count": null,
   "id": "8592225b-3e0f-4d6b-bca7-66bd64d6c8b4",
   "metadata": {},
   "outputs": [],
   "source": [
    "#Q4\n",
    "#Proper indentation in Python is important because it helps the interpreter understand the structure of your code. It's like organizing your code neatly into blocks, making it easier to read and comprehend.\n",
    "\n",
    "Example:\n",
    "\n",
    "python\n",
    "Copy code\n",
    "# Incorrect indentation\n",
    "if True:\n",
    "print(\"This line is not properly indented\")\n"
   ]
  },
  {
   "cell_type": "code",
   "execution_count": 9,
   "id": "6f530a64-7f48-4231-8173-1ea1af7b380b",
   "metadata": {},
   "outputs": [],
   "source": [
    "#Q5\n",
    "#If indentation is incorrect in Python, the interpreter will raise an error. It's like trying to read a messy book with paragraphs randomly placed all over the page - it just doesn't make sense to Python. So, proper indentation is like organizing the paragraphs neatly, helping Python understand the structure of your code."
   ]
  },
  {
   "cell_type": "code",
   "execution_count": null,
   "id": "02608ecb-5560-4c22-864d-2d880d342efb",
   "metadata": {},
   "outputs": [],
   "source": []
  }
 ],
 "metadata": {
  "kernelspec": {
   "display_name": "Python 3 (ipykernel)",
   "language": "python",
   "name": "python3"
  },
  "language_info": {
   "codemirror_mode": {
    "name": "ipython",
    "version": 3
   },
   "file_extension": ".py",
   "mimetype": "text/x-python",
   "name": "python",
   "nbconvert_exporter": "python",
   "pygments_lexer": "ipython3",
   "version": "3.10.8"
  }
 },
 "nbformat": 4,
 "nbformat_minor": 5
}
